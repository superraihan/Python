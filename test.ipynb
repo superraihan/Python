{
 "cells": [
  {
   "cell_type": "markdown",
   "id": "396c1ceb",
   "metadata": {},
   "source": [
    "String Methods"
   ]
  },
  {
   "cell_type": "code",
   "execution_count": null,
   "id": "336f013c",
   "metadata": {},
   "outputs": [],
   "source": [
    "string = \"hello\"\n",
    "processed_string = string.upper()\n",
    "print(processed_string)"
   ]
  },
  {
   "cell_type": "markdown",
   "id": "1491cb24",
   "metadata": {},
   "source": [
    "Spliting And Joining "
   ]
  },
  {
   "cell_type": "code",
   "execution_count": null,
   "id": "cc5485cd",
   "metadata": {},
   "outputs": [],
   "source": [
    "prompt = \"Write a Python program that takes a string as input and returns the string with all characters in uppercase.\"\n",
    "tokens = prompt.split()\n",
    "print(tokens)\n",
    "\n",
    "sentence = \"-\".join(tokens)\n",
    "print(sentence)"
   ]
  },
  {
   "cell_type": "markdown",
   "id": "d351e04b",
   "metadata": {},
   "source": [
    " Formatted String "
   ]
  },
  {
   "cell_type": "code",
   "execution_count": null,
   "id": "eea47103",
   "metadata": {},
   "outputs": [],
   "source": [
    "name = \"Raihan\"\n",
    "age = 22\n",
    "height = 5.11\n",
    "print(f\"Hello, My name is {name}. I am {age} years old and my height is {height} feet tall.\")"
   ]
  },
  {
   "cell_type": "markdown",
   "id": "e06aec2a",
   "metadata": {},
   "source": [
    " List and List Methods"
   ]
  },
  {
   "cell_type": "code",
   "execution_count": null,
   "id": "53503c1c",
   "metadata": {},
   "outputs": [],
   "source": [
    "numbers = [1, 2, 3, 4, 5]\n",
    "print(numbers[2])\n",
    "numbers[2]=10\n",
    "print(numbers)"
   ]
  },
  {
   "cell_type": "markdown",
   "id": "0763ac33",
   "metadata": {},
   "source": [
    "Declaration"
   ]
  },
  {
   "cell_type": "code",
   "execution_count": null,
   "id": "5d886497",
   "metadata": {},
   "outputs": [],
   "source": [
    "###(1d list)\n",
    "numbers = [1, 2, 3, 4, 5]\n",
    "float_numbers = [1.1, 2.2, 3.3]\n",
    "fruits = [\"apple\", \"banana\", \"cherry\"]\n",
    "mix = [1, 3.3, \"apple\"]\n",
    "print(mix)\n",
    "\n",
    "###double list methods(2d list)\n",
    "\n",
    "list_er_moddhe_list =[[100,23,45],[23,45,67],[34,56,78]]\n",
    "print(list_er_moddhe_list)"
   ]
  },
  {
   "cell_type": "markdown",
   "id": "09827dbe",
   "metadata": {},
   "source": [
    "Stack As List"
   ]
  },
  {
   "cell_type": "code",
   "execution_count": null,
   "id": "ce8f7d91",
   "metadata": {},
   "outputs": [],
   "source": [
    "stack = []\n",
    "stack.append(1)\n",
    "stack.append(2)\n",
    "stack.append(3)\n",
    "stack.append(4)\n",
    "print(stack.pop())  # Pops the last item (4)"
   ]
  },
  {
   "cell_type": "markdown",
   "id": "6595e249",
   "metadata": {},
   "source": [
    "List As Queue"
   ]
  },
  {
   "cell_type": "code",
   "execution_count": null,
   "id": "e78416b9",
   "metadata": {},
   "outputs": [],
   "source": [
    "queue = []\n",
    "queue.append(1)\n",
    "queue.append(2)\n",
    "queue.append(3)\n",
    "queue.append(4)\n",
    "print(queue.pop(0))  # Pops the first item (1)\n"
   ]
  },
  {
   "cell_type": "markdown",
   "id": "54e63483",
   "metadata": {},
   "source": [
    "List Comprehension"
   ]
  },
  {
   "cell_type": "code",
   "execution_count": null,
   "id": "7289cac4",
   "metadata": {},
   "outputs": [],
   "source": [
    "even = []\n",
    "for i in range(100):\n",
    "    if i%2==0:\n",
    "        even.append(i)\n",
    "        print(even)\n"
   ]
  },
  {
   "cell_type": "markdown",
   "id": "b2156be8",
   "metadata": {},
   "source": [
    "Shortcut List Comprehension"
   ]
  },
  {
   "cell_type": "code",
   "execution_count": null,
   "id": "0be8f1ab",
   "metadata": {},
   "outputs": [],
   "source": [
    "even = []\n",
    "random_list = [x for x in range(1,101) if x%2==0]\n",
    "print(random_list)"
   ]
  },
  {
   "cell_type": "code",
   "execution_count": null,
   "id": "0b2dcc3f",
   "metadata": {},
   "outputs": [],
   "source": [
    "num = (1, 2, 3, 4)\n",
    "square = [x**2 for x in num if x%2==0]\n",
    "print(square)"
   ]
  },
  {
   "cell_type": "markdown",
   "id": "84b77bfd",
   "metadata": {},
   "source": [
    "Set "
   ]
  },
  {
   "cell_type": "code",
   "execution_count": null,
   "id": "a0d38bc0",
   "metadata": {},
   "outputs": [],
   "source": [
    "## Value Checking\n",
    "set = {1, 2, 3, 4, 5}\n",
    "if(10 in set):\n",
    "    print(\"Yes\")\n",
    "else:\n",
    "    print(\"No\")\n",
    "\n",
    "for element in set:\n",
    "    print(element)    "
   ]
  },
  {
   "cell_type": "code",
   "execution_count": null,
   "id": "3c22a7e6",
   "metadata": {},
   "outputs": [],
   "source": [
    "## adding and removing elements from a set\n",
    "set={1,2,3,4,5}\n",
    "set.add(6)\n",
    "set.remove(3)\n",
    "print(set)"
   ]
  },
  {
   "cell_type": "code",
   "execution_count": null,
   "id": "ed0b9658",
   "metadata": {},
   "outputs": [],
   "source": [
    "## set mathematical methods\n",
    "A = {1, 2, 3, 4}\n",
    "B = {1, 2, 3, 4, 5, 6}\n",
    "print(\"union:\", A.union(B))\n",
    "print(\"intersection:\", A.intersection(B))\n",
    "\n",
    "## disjoint set\n",
    "print (\"disjoint:\", A.isdisjoint(B))\n",
    "\n",
    "## subset\n",
    "print(\"subset:\", A.issubset(B))"
   ]
  },
  {
   "cell_type": "markdown",
   "id": "eea0ebb5",
   "metadata": {},
   "source": [
    "Dictionaries"
   ]
  },
  {
   "cell_type": "code",
   "execution_count": null,
   "id": "09abbc6d",
   "metadata": {},
   "outputs": [],
   "source": [
    "dict = {\"name\": \"Raihan\", \"age\": 22, \"height\": 5.11}\n",
    "print(dict[\"name\"])\n",
    "print(dict)"
   ]
  }
 ],
 "metadata": {
  "kernelspec": {
   "display_name": "Python 3",
   "language": "python",
   "name": "python3"
  },
  "language_info": {
   "codemirror_mode": {
    "name": "ipython",
    "version": 3
   },
   "file_extension": ".py",
   "mimetype": "text/x-python",
   "name": "python",
   "nbconvert_exporter": "python",
   "pygments_lexer": "ipython3",
   "version": "3.12.7"
  }
 },
 "nbformat": 4,
 "nbformat_minor": 5
}
