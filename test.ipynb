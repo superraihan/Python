{
 "cells": [
  {
   "cell_type": "markdown",
   "id": "396c1ceb",
   "metadata": {},
   "source": [
    "String Methods"
   ]
  },
  {
   "cell_type": "code",
   "execution_count": 3,
   "id": "336f013c",
   "metadata": {},
   "outputs": [
    {
     "name": "stdout",
     "output_type": "stream",
     "text": [
      "HELLO\n"
     ]
    }
   ],
   "source": [
    "string = \"hello\"\n",
    "processed_string = string.upper()\n",
    "print(processed_string)"
   ]
  },
  {
   "cell_type": "markdown",
   "id": "1491cb24",
   "metadata": {},
   "source": [
    "Spliting And Joining "
   ]
  },
  {
   "cell_type": "code",
   "execution_count": 5,
   "id": "cc5485cd",
   "metadata": {},
   "outputs": [
    {
     "name": "stdout",
     "output_type": "stream",
     "text": [
      "['Write', 'a', 'Python', 'program', 'that', 'takes', 'a', 'string', 'as', 'input', 'and', 'returns', 'the', 'string', 'with', 'all', 'characters', 'in', 'uppercase.']\n",
      "Write-a-Python-program-that-takes-a-string-as-input-and-returns-the-string-with-all-characters-in-uppercase.\n"
     ]
    }
   ],
   "source": [
    "prompt = \"Write a Python program that takes a string as input and returns the string with all characters in uppercase.\"\n",
    "tokens = prompt.split()\n",
    "print(tokens)\n",
    "\n",
    "sentence = \"-\".join(tokens)\n",
    "print(sentence)"
   ]
  },
  {
   "cell_type": "markdown",
   "id": "d351e04b",
   "metadata": {},
   "source": [
    " Formatted String "
   ]
  },
  {
   "cell_type": "code",
   "execution_count": 7,
   "id": "eea47103",
   "metadata": {},
   "outputs": [
    {
     "name": "stdout",
     "output_type": "stream",
     "text": [
      "Hello, My name is Raihan. I am 22 years old and my height is 5.11 feet tall.\n"
     ]
    }
   ],
   "source": [
    "name = \"Raihan\"\n",
    "age = 22\n",
    "height = 5.11\n",
    "print(f\"Hello, My name is {name}. I am {age} years old and my height is {height} feet tall.\")"
   ]
  },
  {
   "cell_type": "markdown",
   "id": "e06aec2a",
   "metadata": {},
   "source": [
    " List and List Methods"
   ]
  },
  {
   "cell_type": "code",
   "execution_count": 10,
   "id": "53503c1c",
   "metadata": {},
   "outputs": [
    {
     "name": "stdout",
     "output_type": "stream",
     "text": [
      "3\n",
      "[1, 2, 10, 4, 5]\n"
     ]
    }
   ],
   "source": [
    "numbers = [1, 2, 3, 4, 5]\n",
    "print(numbers[2])\n",
    "numbers[2]=10\n",
    "print(numbers)"
   ]
  },
  {
   "cell_type": "markdown",
   "id": "0763ac33",
   "metadata": {},
   "source": [
    "Declaration"
   ]
  },
  {
   "cell_type": "code",
   "execution_count": null,
   "id": "5d886497",
   "metadata": {},
   "outputs": [
    {
     "name": "stdout",
     "output_type": "stream",
     "text": [
      "[1, 3.3, 'apple']\n",
      "[[100, 23, 45], [23, 45, 67], [34, 56, 78]]\n"
     ]
    }
   ],
   "source": [
    "###(1d list)\n",
    "numbers = [1, 2, 3, 4, 5]\n",
    "float_numbers = [1.1, 2.2, 3.3]\n",
    "fruits = [\"apple\", \"banana\", \"cherry\"]\n",
    "mix = [1, 3.3, \"apple\"]\n",
    "print(mix)\n",
    "\n",
    "###double list methods(2d list)\n",
    "\n",
    "list_er_moddhe_list =[[100,23,45],[23,45,67],[34,56,78]]\n",
    "print(list_er_moddhe_list)"
   ]
  }
 ],
 "metadata": {
  "kernelspec": {
   "display_name": "Python 3",
   "language": "python",
   "name": "python3"
  },
  "language_info": {
   "codemirror_mode": {
    "name": "ipython",
    "version": 3
   },
   "file_extension": ".py",
   "mimetype": "text/x-python",
   "name": "python",
   "nbconvert_exporter": "python",
   "pygments_lexer": "ipython3",
   "version": "3.13.7"
  }
 },
 "nbformat": 4,
 "nbformat_minor": 5
}
