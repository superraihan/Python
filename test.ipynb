{
 "cells": [
  {
   "cell_type": "markdown",
   "id": "396c1ceb",
   "metadata": {},
   "source": [
    "String Methods"
   ]
  },
  {
   "cell_type": "code",
   "execution_count": null,
   "id": "336f013c",
   "metadata": {},
   "outputs": [],
   "source": [
    "string = \"hello\"\n",
    "processed_string = string.upper()\n",
    "print(processed_string)"
   ]
  },
  {
   "cell_type": "markdown",
   "id": "1491cb24",
   "metadata": {},
   "source": [
    "Spliting And Joining "
   ]
  },
  {
   "cell_type": "code",
   "execution_count": null,
   "id": "cc5485cd",
   "metadata": {},
   "outputs": [],
   "source": [
    "prompt = \"Write a Python program that takes a string as input and returns the string with all characters in uppercase.\"\n",
    "tokens = prompt.split()\n",
    "print(tokens)\n",
    "\n",
    "sentence = \"-\".join(tokens)\n",
    "print(sentence)"
   ]
  },
  {
   "cell_type": "markdown",
   "id": "d351e04b",
   "metadata": {},
   "source": [
    " Formatted String "
   ]
  },
  {
   "cell_type": "code",
   "execution_count": null,
   "id": "eea47103",
   "metadata": {},
   "outputs": [],
   "source": [
    "name = \"Raihan\"\n",
    "age = 22\n",
    "height = 5.11\n",
    "print(f\"Hello, My name is {name}. I am {age} years old and my height is {height} feet tall.\")"
   ]
  },
  {
   "cell_type": "markdown",
   "id": "e06aec2a",
   "metadata": {},
   "source": [
    " List and List Methods"
   ]
  },
  {
   "cell_type": "code",
   "execution_count": null,
   "id": "53503c1c",
   "metadata": {},
   "outputs": [],
   "source": [
    "numbers = [1, 2, 3, 4, 5]\n",
    "print(numbers[2])\n",
    "numbers[2]=10\n",
    "print(numbers)"
   ]
  },
  {
   "cell_type": "markdown",
   "id": "0763ac33",
   "metadata": {},
   "source": [
    "Declaration"
   ]
  },
  {
   "cell_type": "code",
   "execution_count": null,
   "id": "5d886497",
   "metadata": {},
   "outputs": [],
   "source": [
    "###(1d list)\n",
    "numbers = [1, 2, 3, 4, 5]\n",
    "float_numbers = [1.1, 2.2, 3.3]\n",
    "fruits = [\"apple\", \"banana\", \"cherry\"]\n",
    "mix = [1, 3.3, \"apple\"]\n",
    "print(mix)\n",
    "\n",
    "###double list methods(2d list)\n",
    "\n",
    "list_er_moddhe_list =[[100,23,45],[23,45,67],[34,56,78]]\n",
    "print(list_er_moddhe_list)"
   ]
  },
  {
   "cell_type": "markdown",
   "id": "09827dbe",
   "metadata": {},
   "source": [
    "Stack As List"
   ]
  },
  {
   "cell_type": "code",
   "execution_count": null,
   "id": "ce8f7d91",
   "metadata": {},
   "outputs": [],
   "source": [
    "stack = []\n",
    "stack.append(1)\n",
    "stack.append(2)\n",
    "stack.append(3)\n",
    "stack.append(4)\n",
    "print(stack.pop())  # Pops the last item (4)"
   ]
  },
  {
   "cell_type": "markdown",
   "id": "6595e249",
   "metadata": {},
   "source": [
    "List As Queue"
   ]
  },
  {
   "cell_type": "code",
   "execution_count": null,
   "id": "e78416b9",
   "metadata": {},
   "outputs": [],
   "source": [
    "queue = []\n",
    "queue.append(1)\n",
    "queue.append(2)\n",
    "queue.append(3)\n",
    "queue.append(4)\n",
    "print(queue.pop(0))  # Pops the first item (1)\n"
   ]
  },
  {
   "cell_type": "markdown",
   "id": "54e63483",
   "metadata": {},
   "source": [
    "List Comprehension"
   ]
  },
  {
   "cell_type": "code",
   "execution_count": null,
   "id": "7289cac4",
   "metadata": {},
   "outputs": [],
   "source": [
    "even = []\n",
    "for i in range(100):\n",
    "    if i%2==0:\n",
    "        even.append(i)\n",
    "        print(even)\n"
   ]
  },
  {
   "cell_type": "markdown",
   "id": "b2156be8",
   "metadata": {},
   "source": [
    "Shortcut List Comprehension"
   ]
  },
  {
   "cell_type": "code",
   "execution_count": 8,
   "id": "0be8f1ab",
   "metadata": {},
   "outputs": [
    {
     "name": "stdout",
     "output_type": "stream",
     "text": [
      "[2, 4, 6, 8, 10, 12, 14, 16, 18, 20, 22, 24, 26, 28, 30, 32, 34, 36, 38, 40, 42, 44, 46, 48, 50, 52, 54, 56, 58, 60, 62, 64, 66, 68, 70, 72, 74, 76, 78, 80, 82, 84, 86, 88, 90, 92, 94, 96, 98, 100]\n"
     ]
    }
   ],
   "source": [
    "even = []\n",
    "random_list = [x for x in range(1,101) if x%2==0]\n",
    "print(random_list)"
   ]
  },
  {
   "cell_type": "code",
   "execution_count": null,
   "id": "0b2dcc3f",
   "metadata": {},
   "outputs": [],
   "source": [
    "num = (1, 2, 3, 4)\n",
    "square = [x**2 for x in num if x%2==0]\n",
    "print(square)"
   ]
  }
 ],
 "metadata": {
  "kernelspec": {
   "display_name": "Python 3",
   "language": "python",
   "name": "python3"
  },
  "language_info": {
   "codemirror_mode": {
    "name": "ipython",
    "version": 3
   },
   "file_extension": ".py",
   "mimetype": "text/x-python",
   "name": "python",
   "nbconvert_exporter": "python",
   "pygments_lexer": "ipython3",
   "version": "3.13.8"
  }
 },
 "nbformat": 4,
 "nbformat_minor": 5
}
