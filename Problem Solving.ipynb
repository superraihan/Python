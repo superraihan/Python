{
 "cells": [
  {
   "cell_type": "markdown",
   "id": "8a7563ec",
   "metadata": {},
   "source": [
    "Problem Solving "
   ]
  },
  {
   "cell_type": "code",
   "execution_count": null,
   "id": "3214efad",
   "metadata": {},
   "outputs": [],
   "source": [
    "imp =input()\n",
    "numbers = imp.split()\n",
    "x = int(numbers[0])\n",
    "y = int(numbers[1])\n",
    "last_digit_x = x % 10\n",
    "last_digit_y = y % 10\n",
    "sum = last_digit_x + last_digit_y\n",
    "print(sum)"
   ]
  },
  {
   "cell_type": "code",
   "execution_count": null,
   "id": "06cf5eb9",
   "metadata": {},
   "outputs": [],
   "source": [
    "# number of test cases\n",
    "t = int(input())\n",
    "\n",
    "for _ in range(t):\n",
    "    n = int(input())\n",
    "    # number of valid (a, b) pairs\n",
    "    print(n - 1)\n"
   ]
  },
  {
   "cell_type": "code",
   "execution_count": null,
   "id": "3b45dca2",
   "metadata": {},
   "outputs": [],
   "source": [
    "a = int(input(\"Enter a number: \"))\n",
    "b = int(input(\"Enter another number: \"))\n",
    "print(\"Sum:\", a + b)\n"
   ]
  },
  {
   "cell_type": "markdown",
   "id": "0c55d36d",
   "metadata": {},
   "source": [
    "Problem 1: Common Friends (Set Operations)\n",
    "Problem:\n",
    " Given two sets of friends from two people, find the mutual friends, unique friends of each, and the total number of unique friends.\n"
   ]
  },
  {
   "cell_type": "code",
   "execution_count": null,
   "id": "d2fa5ac9",
   "metadata": {},
   "outputs": [],
   "source": [
    "a_friends = {\"Rahim\", \"Karim\", \"Sakib\", \"Jamal\"}\n",
    "b_friends = {\"Sakib\", \"Jamal\", \"Rafiq\", \"Nadim\"}\n",
    "mutual_friends = a_friends.intersection(b_friends)\n",
    "unique_to_a = a_friends - b_friends\n",
    "unique_to_b = b_friends - a_friends\n",
    "total_unique_friends = len(a_friends.union(b_friends))\n",
    "print(\"Mutual Friends:\", mutual_friends)\n",
    "print(\"Unique to A:\", unique_to_a)\n",
    "print(\"Unique to B:\", unique_to_b)\n",
    "print(\"Total Unique Friends:\", total_unique_friends)\n"
   ]
  },
  {
   "cell_type": "markdown",
   "id": "fd9bb953",
   "metadata": {},
   "source": [
    "Problem 2: Sort Students by Marks (Tuple + Dictionary)\n",
    "Problem:\n",
    " You are given a list of tuples — each containing a student’s name and mark.\n",
    " Sort them in descending order of marks and print the top 3 scorers."
   ]
  },
  {
   "cell_type": "code",
   "execution_count": null,
   "id": "c1d073d0",
   "metadata": {},
   "outputs": [],
   "source": [
    "students = [(\"Rafi\", 89), (\"Sumi\", 95), (\"Hasan\", 90), (\"Nila\", 75), (\"Anik\", 98)]\n",
    "\n",
    "sorted_students = sorted(students, key=lambda x: x[1], reverse=True)\n",
    "\n",
    "top_3 = sorted_students[:3]\n",
    "\n",
    "print(\"Top 3 students:\")\n",
    "for name, marks in top_3:\n",
    "    print(name, \"-\", marks)\n"
   ]
  },
  {
   "cell_type": "markdown",
   "id": "b203c6f9",
   "metadata": {},
   "source": [
    "Problem 3: Word Length Filter (Lambda + Filter)\n",
    "Problem:\n",
    " Given a list of words, use filter() and lambda to return only words whose length is greater than 4.\n"
   ]
  },
  {
   "cell_type": "code",
   "execution_count": null,
   "id": "7c3d73a4",
   "metadata": {},
   "outputs": [],
   "source": [
    "words = [\"sun\", \"planet\", \"moon\", \"star\", \"universe\"]\n",
    "\n",
    "filtered_words = list(filter(lambda w: len(w) > 4, words))\n",
    "\n",
    "print(filtered_words)\n"
   ]
  },
  {
   "cell_type": "markdown",
   "id": "2c007535",
   "metadata": {},
   "source": [
    "Problem 4: Square of Even Numbers (Map + Filter + Lambda)\n",
    "Problem:\n",
    " Write a one-line Python expression using map(), filter(), and lambda that takes a list of integers and returns the squares of even numbers only.\n"
   ]
  },
  {
   "cell_type": "code",
   "execution_count": null,
   "id": "59e2a079",
   "metadata": {},
   "outputs": [],
   "source": [
    "nums = [1, 2, 3, 4, 5, 6]\n",
    "result = list(map(lambda x: x**2, filter(lambda x: x % 2 == 0, nums)))\n",
    "print(result)\n"
   ]
  },
  {
   "cell_type": "markdown",
   "id": "5dbf0b8b",
   "metadata": {},
   "source": [
    "Problem 5: Write and Read a File\n",
    "Problem:\n",
    " Write a Python program to:\n",
    "\n",
    "1) Create a text file named data.txt\n",
    "2) Write “Learning Python is fun!” into it.\n",
    "3) Read the file and print its content.\n",
    "\n",
    "\n"
   ]
  },
  {
   "cell_type": "code",
   "execution_count": null,
   "id": "34ac72f9",
   "metadata": {},
   "outputs": [],
   "source": [
    "with open(\"data.txt\", \"w\") as file:\n",
    "    file.write(\"Learning Python is fun!\")\n",
    "\n",
    "with open(\"data.txt\", \"r\") as file:\n",
    "    content = file.read()\n",
    "\n",
    "print(content)\n"
   ]
  },
  {
   "cell_type": "markdown",
   "id": "c422237c",
   "metadata": {},
   "source": [
    "Problem 6: Count Lines in a File\n",
    "Problem:\n",
    " Write a Python program to count how many lines are in a text file named story.txt.\n",
    " If the file does not exist, handle the exception and print an error message, otherwise read the text file ( test it with both conditions ). Print a message finally. \n"
   ]
  },
  {
   "cell_type": "code",
   "execution_count": null,
   "id": "3c8b6ef3",
   "metadata": {},
   "outputs": [],
   "source": [
    "try:\n",
    "    with open(\"story.txt\", \"r\") as file:\n",
    "        lines = file.readlines()\n",
    "        print(\"Number of lines in the file:\", len(lines))\n",
    "except FileNotFoundError:\n",
    "    print(\"Error: story.txt does not exist.\")\n",
    "finally:\n",
    "    print(\"Program finished checking the file.\")\n"
   ]
  },
  {
   "cell_type": "markdown",
   "id": "800962fd",
   "metadata": {},
   "source": [
    "Final Assignment "
   ]
  },
  {
   "cell_type": "markdown",
   "id": "9e4a8365",
   "metadata": {},
   "source": [
    "Question 1"
   ]
  },
  {
   "cell_type": "code",
   "execution_count": null,
   "id": "c40038ee",
   "metadata": {},
   "outputs": [],
   "source": [
    "numbers = list(map(int, input().split()))\n",
    "even_numbers = list(filter(lambda x: x % 2 == 0, numbers))\n",
    "print(\"Input Numbers:\", numbers, \"Output Numbers:\", even_numbers)"
   ]
  },
  {
   "cell_type": "markdown",
   "id": "ab4f1b3a",
   "metadata": {},
   "source": [
    "Question 2"
   ]
  },
  {
   "cell_type": "code",
   "execution_count": 1,
   "id": "70103a44",
   "metadata": {},
   "outputs": [
    {
     "name": "stdout",
     "output_type": "stream",
     "text": [
      "Enter two numbers:\n",
      "Output: Division by zero\n"
     ]
    }
   ],
   "source": [
    "def safe_divide(a,b):\n",
    "    try:\n",
    "        result = a / b\n",
    "        print(\"Result:\", result)\n",
    "    except:\n",
    "        print(\"Output: Division by zero\")\n",
    "\n",
    "print(\"Enter two numbers:\")\n",
    "nums = input().split()\n",
    "a = int(nums[0])\n",
    "b = int(nums[1])\n",
    "\n",
    "safe_divide(a,b)\n"
   ]
  },
  {
   "cell_type": "markdown",
   "id": "67fbaa56",
   "metadata": {},
   "source": [
    "Question 3"
   ]
  },
  {
   "cell_type": "code",
   "execution_count": 2,
   "id": "ba08dd88",
   "metadata": {},
   "outputs": [
    {
     "name": "stdout",
     "output_type": "stream",
     "text": [
      "Area: 0.00\n"
     ]
    }
   ],
   "source": [
    "import math\n",
    "\n",
    "class Shape:\n",
    "    def area(self):\n",
    "        return 0\n",
    "\n",
    "class Rectangle(Shape):\n",
    "    def __init__(self, w, h):\n",
    "        self.w = w\n",
    "        self.h = h\n",
    "\n",
    "    def area(self):\n",
    "        return self.w * self.h\n",
    "\n",
    "class Circle(Shape):\n",
    "    def __init__(self, r):\n",
    "        self.r = r\n",
    "\n",
    "    def area(self):\n",
    "        return math.pi * self.r * self.r\n",
    "\n",
    "data = input().split()\n",
    "\n",
    "if data[0].lower() == \"rectangle\":\n",
    "    w = float(data[1])\n",
    "    h = float(data[2])\n",
    "    obj = Rectangle(w, h)\n",
    "elif data[0].lower() == \"circle\":\n",
    "    r = float(data[1])\n",
    "    obj = Circle(r)\n",
    "else:\n",
    "    obj = Shape()\n",
    "\n",
    "print(\"Area:\", f\"{obj.area():.2f}\")\n"
   ]
  },
  {
   "cell_type": "markdown",
   "id": "3484c7df",
   "metadata": {},
   "source": [
    "Question 4"
   ]
  },
  {
   "cell_type": "code",
   "execution_count": null,
   "id": "18b8c361",
   "metadata": {},
   "outputs": [],
   "source": [
    "sentence = input()\n",
    "words = sentence.split()\n",
    "\n",
    "longest = \"\"\n",
    "for word in words:\n",
    "    if len(word) > len(longest):\n",
    "        longest = word\n",
    "\n",
    "print(\"Output:\", longest)\n"
   ]
  },
  {
   "cell_type": "markdown",
   "id": "831280da",
   "metadata": {},
   "source": [
    "Or"
   ]
  },
  {
   "cell_type": "code",
   "execution_count": null,
   "id": "a0a4c104",
   "metadata": {},
   "outputs": [],
   "source": [
    "sentence = input()\n",
    "words = sentence.split()\n",
    "longest_word = max(words, key=len)\n",
    "print(longest_word)\n"
   ]
  },
  {
   "cell_type": "markdown",
   "id": "e95cacfb",
   "metadata": {},
   "source": [
    "Problem 5"
   ]
  },
  {
   "cell_type": "code",
   "execution_count": 12,
   "id": "58a9b5d0",
   "metadata": {},
   "outputs": [
    {
     "name": "stdout",
     "output_type": "stream",
     "text": [
      "Not Strong Number\n"
     ]
    }
   ],
   "source": [
    "import math\n",
    "\n",
    "num = int(input(\"Enter a number: \"))\n",
    "\n",
    "temp = num\n",
    "total = 0\n",
    "\n",
    "while temp > 0:\n",
    "    digit = temp % 10\n",
    "    total += math.factorial(digit)\n",
    "    temp //= 10\n",
    "\n",
    "if total == num:\n",
    "    print(\"Strong Number\")\n",
    "else:\n",
    "    print(\"Not Strong Number\")\n"
   ]
  },
  {
   "cell_type": "code",
   "execution_count": 4,
   "id": "f0bae9af",
   "metadata": {},
   "outputs": [
    {
     "name": "stdout",
     "output_type": "stream",
     "text": [
      "Area: 50.00\n"
     ]
    }
   ],
   "source": [
    "import math\n",
    "\n",
    "class Shape:\n",
    "    def area(self):\n",
    "        return 0\n",
    "\n",
    "class Rectangle(Shape):\n",
    "    def __init__(self, w, h):\n",
    "        self.w = w\n",
    "        self.h = h\n",
    "\n",
    "    def area(self):\n",
    "        return self.w * self.h\n",
    "\n",
    "class Circle(Shape):\n",
    "    def __init__(self, r):\n",
    "        self.r = r\n",
    "\n",
    "    def area(self):\n",
    "        return math.pi * (self.r ** 2)\n",
    "\n",
    "shape_data = input(\"Enter shape and values: \").split()\n",
    "\n",
    "if shape_data[0].lower() == \"rectangle\":\n",
    "    w = float(shape_data[1])\n",
    "    h = float(shape_data[2])\n",
    "    s = Rectangle(w, h)\n",
    "elif shape_data[0].lower() == \"circle\":\n",
    "    r = float(shape_data[1])\n",
    "    s = Circle(r)\n",
    "else:\n",
    "    s = Shape()\n",
    "\n",
    "print(\"Area:\", format(s.area(), \".2f\"))\n"
   ]
  },
  {
   "cell_type": "code",
   "execution_count": null,
   "id": "0c53cb06",
   "metadata": {},
   "outputs": [],
   "source": [
    "import math\n",
    "\n",
    "class Shape:\n",
    "    def area(self):\n",
    "        return 0\n",
    "\n",
    "class Rectangle(Shape):\n",
    "    def __init__(self, w, h):\n",
    "        self.w = w\n",
    "        self.h = h\n",
    "    def area(self):\n",
    "        return self.w * self.h\n",
    "\n",
    "class Circle(Shape):\n",
    "    def __init__(self, r):\n",
    "        self.r = r\n",
    "    def area(self):\n",
    "        return math.pi * (self.r ** 2)\n",
    "\n",
    "shape_data = input(\"Enter shape and values: \").split()\n",
    "if shape_data[0].lower() == \"rectangle\":\n",
    "    w = float(shape_data[1])\n",
    "    h = float(shape_data[2])\n",
    "    s = Rectangle(w,h)\n",
    "elif shape_data[0].lower() == \"circle\":\n",
    "    r = float(shape_data[1])\n",
    "    s = Circle(r)\n",
    "else:\n",
    "    s = Shape()\n",
    "\n",
    "print(\"Area:\", round(s.area(),2))\n"
   ]
  },
  {
   "cell_type": "code",
   "execution_count": 2,
   "id": "2a6c4a47",
   "metadata": {},
   "outputs": [
    {
     "name": "stdout",
     "output_type": "stream",
     "text": [
      "Area of Circle: 78.50\n"
     ]
    }
   ],
   "source": [
    "class Shape:\n",
    "    def area(self):\n",
    "        return 0\n",
    "class Rectangle(Shape):\n",
    "    def __init__(self, w, h):\n",
    "        self.w=w\n",
    "        self.h=h\n",
    "    def area(self):\n",
    "        return self.w * self.h\n",
    "class Circle(Shape):\n",
    "    def __init__(self, r):\n",
    "        self.r=r\n",
    "    def area(self):\n",
    "        return 3.14 * self.r * self.r\n",
    "x= input().split()\n",
    "if x[0]==\"Rectangle\":\n",
    "    w=float(x[1])\n",
    "    h=float(x[2])\n",
    "    rect=Rectangle(w,h)\n",
    "    print(f\"Area of Rectangle: {rect.area():.2f}\")\n",
    "elif x[0]==\"Circle\":\n",
    "    r=float(x[1])\n",
    "    circ=Circle(r)\n",
    "    print(f\"Area of Circle: {circ.area():.2f}\")"
   ]
  },
  {
   "cell_type": "code",
   "execution_count": 4,
   "id": "82386463",
   "metadata": {},
   "outputs": [
    {
     "name": "stdout",
     "output_type": "stream",
     "text": [
      "Invalid shape\n"
     ]
    }
   ],
   "source": [
    "class Shape:\n",
    "    def area(self):\n",
    "        return 0\n",
    "\n",
    "class Rectangle(Shape):\n",
    "    def __init__(self, width, height):\n",
    "        self.width = width\n",
    "        self.height = height\n",
    "    def area(self):\n",
    "        return self.width * self.height\n",
    "\n",
    "class Circle(Shape):\n",
    "    def __init__(self, radius):\n",
    "        self.radius = radius\n",
    "    def area(self):\n",
    "        return 3.14 * (self.radius ** 2)\n",
    "\n",
    "data = input().split()\n",
    "\n",
    "shape_type = data[0]\n",
    "\n",
    "if shape_type.lower() == \"rectangle\":\n",
    "    w = float(data[1])\n",
    "    h = float(data[2])\n",
    "    shape = Rectangle(w, h)\n",
    "    print(\"Area:\", f\"{shape.area():.2f}\")\n",
    "elif shape_type.lower() == \"circle\":\n",
    "    r = float(data[1])\n",
    "    shape = Circle(r)\n",
    "    print(\"Area:\", f\"{shape.area():.2f}\")\n",
    "else:\n",
    "    print(\"Invalid shape\")\n"
   ]
  }
 ],
 "metadata": {
  "kernelspec": {
   "display_name": "Python 3",
   "language": "python",
   "name": "python3"
  },
  "language_info": {
   "codemirror_mode": {
    "name": "ipython",
    "version": 3
   },
   "file_extension": ".py",
   "mimetype": "text/x-python",
   "name": "python",
   "nbconvert_exporter": "python",
   "pygments_lexer": "ipython3",
   "version": "3.12.7"
  }
 },
 "nbformat": 4,
 "nbformat_minor": 5
}
