{
 "cells": [
  {
   "cell_type": "markdown",
   "id": "8a7563ec",
   "metadata": {},
   "source": [
    "Problem Solving "
   ]
  },
  {
   "cell_type": "code",
   "execution_count": null,
   "id": "3214efad",
   "metadata": {},
   "outputs": [],
   "source": [
    "imp =input()\n",
    "numbers = imp.split()\n",
    "x = int(numbers[0])\n",
    "y = int(numbers[1])\n",
    "last_digit_x = x % 10\n",
    "last_digit_y = y % 10\n",
    "sum = last_digit_x + last_digit_y\n",
    "print(sum)"
   ]
  },
  {
   "cell_type": "code",
   "execution_count": null,
   "id": "06cf5eb9",
   "metadata": {},
   "outputs": [],
   "source": [
    "# number of test cases\n",
    "t = int(input())\n",
    "\n",
    "for _ in range(t):\n",
    "    n = int(input())\n",
    "    # number of valid (a, b) pairs\n",
    "    print(n - 1)\n"
   ]
  },
  {
   "cell_type": "code",
   "execution_count": null,
   "id": "3b45dca2",
   "metadata": {},
   "outputs": [],
   "source": [
    "a = int(input(\"Enter a number: \"))\n",
    "b = int(input(\"Enter another number: \"))\n",
    "print(\"Sum:\", a + b)\n"
   ]
  },
  {
   "cell_type": "markdown",
   "id": "0c55d36d",
   "metadata": {},
   "source": [
    "Problem 1: Common Friends (Set Operations)\n",
    "Problem:\n",
    " Given two sets of friends from two people, find the mutual friends, unique friends of each, and the total number of unique friends.\n"
   ]
  },
  {
   "cell_type": "code",
   "execution_count": 5,
   "id": "d2fa5ac9",
   "metadata": {},
   "outputs": [
    {
     "name": "stdout",
     "output_type": "stream",
     "text": [
      "Mutual Friends: {'Sakib', 'Jamal'}\n",
      "Unique to A: {'Rahim', 'Karim'}\n",
      "Unique to B: {'Rafiq', 'Nadim'}\n",
      "Total Unique Friends: 6\n"
     ]
    }
   ],
   "source": [
    "a_friends = {\"Rahim\", \"Karim\", \"Sakib\", \"Jamal\"}\n",
    "b_friends = {\"Sakib\", \"Jamal\", \"Rafiq\", \"Nadim\"}\n",
    "mutual_friends = a_friends.intersection(b_friends)\n",
    "unique_to_a = a_friends - b_friends\n",
    "unique_to_b = b_friends - a_friends\n",
    "total_unique_friends = len(a_friends.union(b_friends))\n",
    "print(\"Mutual Friends:\", mutual_friends)\n",
    "print(\"Unique to A:\", unique_to_a)\n",
    "print(\"Unique to B:\", unique_to_b)\n",
    "print(\"Total Unique Friends:\", total_unique_friends)\n"
   ]
  },
  {
   "cell_type": "markdown",
   "id": "fd9bb953",
   "metadata": {},
   "source": [
    "Problem 2: Sort Students by Marks (Tuple + Dictionary)\n",
    "Problem:\n",
    " You are given a list of tuples — each containing a student’s name and mark.\n",
    " Sort them in descending order of marks and print the top 3 scorers."
   ]
  },
  {
   "cell_type": "code",
   "execution_count": 1,
   "id": "c1d073d0",
   "metadata": {},
   "outputs": [
    {
     "name": "stdout",
     "output_type": "stream",
     "text": [
      "Top 3 students:\n",
      "Anik - 98\n",
      "Sumi - 95\n",
      "Hasan - 90\n"
     ]
    }
   ],
   "source": [
    "students = [(\"Rafi\", 89), (\"Sumi\", 95), (\"Hasan\", 90), (\"Nila\", 75), (\"Anik\", 98)]\n",
    "\n",
    "sorted_students = sorted(students, key=lambda x: x[1], reverse=True)\n",
    "\n",
    "top_3 = sorted_students[:3]\n",
    "\n",
    "print(\"Top 3 students:\")\n",
    "for name, marks in top_3:\n",
    "    print(name, \"-\", marks)\n"
   ]
  },
  {
   "cell_type": "markdown",
   "id": "b203c6f9",
   "metadata": {},
   "source": [
    "Problem 3: Word Length Filter (Lambda + Filter)\n",
    "Problem:\n",
    " Given a list of words, use filter() and lambda to return only words whose length is greater than 4.\n"
   ]
  },
  {
   "cell_type": "code",
   "execution_count": 2,
   "id": "7c3d73a4",
   "metadata": {},
   "outputs": [
    {
     "name": "stdout",
     "output_type": "stream",
     "text": [
      "['planet', 'universe']\n"
     ]
    }
   ],
   "source": [
    "words = [\"sun\", \"planet\", \"moon\", \"star\", \"universe\"]\n",
    "\n",
    "filtered_words = list(filter(lambda w: len(w) > 4, words))\n",
    "\n",
    "print(filtered_words)\n"
   ]
  },
  {
   "cell_type": "markdown",
   "id": "2c007535",
   "metadata": {},
   "source": [
    "Problem 4: Square of Even Numbers (Map + Filter + Lambda)\n",
    "Problem:\n",
    " Write a one-line Python expression using map(), filter(), and lambda that takes a list of integers and returns the squares of even numbers only.\n"
   ]
  },
  {
   "cell_type": "code",
   "execution_count": 3,
   "id": "59e2a079",
   "metadata": {},
   "outputs": [
    {
     "name": "stdout",
     "output_type": "stream",
     "text": [
      "[4, 16, 36]\n"
     ]
    }
   ],
   "source": [
    "nums = [1, 2, 3, 4, 5, 6]\n",
    "result = list(map(lambda x: x**2, filter(lambda x: x % 2 == 0, nums)))\n",
    "print(result)\n"
   ]
  },
  {
   "cell_type": "markdown",
   "id": "5dbf0b8b",
   "metadata": {},
   "source": [
    "Problem 5: Write and Read a File\n",
    "Problem:\n",
    " Write a Python program to:\n",
    "\n",
    "1) Create a text file named data.txt\n",
    "2) Write “Learning Python is fun!” into it.\n",
    "3) Read the file and print its content.\n",
    "\n",
    "\n"
   ]
  },
  {
   "cell_type": "code",
   "execution_count": 4,
   "id": "34ac72f9",
   "metadata": {},
   "outputs": [
    {
     "name": "stdout",
     "output_type": "stream",
     "text": [
      "Learning Python is fun!\n"
     ]
    }
   ],
   "source": [
    "with open(\"data.txt\", \"w\") as file:\n",
    "    file.write(\"Learning Python is fun!\")\n",
    "\n",
    "with open(\"data.txt\", \"r\") as file:\n",
    "    content = file.read()\n",
    "\n",
    "print(content)\n"
   ]
  },
  {
   "cell_type": "markdown",
   "id": "c422237c",
   "metadata": {},
   "source": [
    "Problem 6: Count Lines in a File\n",
    "Problem:\n",
    " Write a Python program to count how many lines are in a text file named story.txt.\n",
    " If the file does not exist, handle the exception and print an error message, otherwise read the text file ( test it with both conditions ). Print a message finally. \n"
   ]
  },
  {
   "cell_type": "code",
   "execution_count": 5,
   "id": "3c8b6ef3",
   "metadata": {},
   "outputs": [
    {
     "name": "stdout",
     "output_type": "stream",
     "text": [
      "Error: story.txt does not exist.\n",
      "Program finished checking the file.\n"
     ]
    }
   ],
   "source": [
    "try:\n",
    "    with open(\"story.txt\", \"r\") as file:\n",
    "        lines = file.readlines()\n",
    "        print(\"Number of lines in the file:\", len(lines))\n",
    "except FileNotFoundError:\n",
    "    print(\"Error: story.txt does not exist.\")\n",
    "finally:\n",
    "    print(\"Program finished checking the file.\")\n"
   ]
  }
 ],
 "metadata": {
  "kernelspec": {
   "display_name": "Python 3",
   "language": "python",
   "name": "python3"
  },
  "language_info": {
   "codemirror_mode": {
    "name": "ipython",
    "version": 3
   },
   "file_extension": ".py",
   "mimetype": "text/x-python",
   "name": "python",
   "nbconvert_exporter": "python",
   "pygments_lexer": "ipython3",
   "version": "3.12.7"
  }
 },
 "nbformat": 4,
 "nbformat_minor": 5
}
