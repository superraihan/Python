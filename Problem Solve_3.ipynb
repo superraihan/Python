{
 "cells": [
  {
   "cell_type": "code",
   "execution_count": null,
   "id": "ce978a7e",
   "metadata": {},
   "outputs": [],
   "source": [
    "imp =input()\n",
    "numbers = imp.split()\n",
    "x = int(numbers[0])\n",
    "y = int(numbers[1])\n",
    "last_digit_x = x % 10\n",
    "last_digit_y = y % 10\n",
    "sum = last_digit_x + last_digit_y\n",
    "print(sum)"
   ]
  }
 ],
 "metadata": {
  "kernelspec": {
   "display_name": "Python 3",
   "language": "python",
   "name": "python3"
  },
  "language_info": {
   "codemirror_mode": {
    "name": "ipython",
    "version": 3
   },
   "file_extension": ".py",
   "mimetype": "text/x-python",
   "name": "python",
   "nbconvert_exporter": "python",
   "pygments_lexer": "ipython3",
   "version": "3.13.7"
  }
 },
 "nbformat": 4,
 "nbformat_minor": 5
}
