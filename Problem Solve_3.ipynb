{
 "cells": [
  {
   "cell_type": "code",
   "execution_count": 7,
   "id": "ce978a7e",
   "metadata": {},
   "outputs": [
    {
     "ename": "IndexError",
     "evalue": "list index out of range",
     "output_type": "error",
     "traceback": [
      "\u001b[31m---------------------------------------------------------------------------\u001b[39m",
      "\u001b[31mIndexError\u001b[39m                                Traceback (most recent call last)",
      "\u001b[36mCell\u001b[39m\u001b[36m \u001b[39m\u001b[32mIn[7]\u001b[39m\u001b[32m, line 4\u001b[39m\n\u001b[32m      2\u001b[39m numbers = imp.split()\n\u001b[32m      3\u001b[39m x = \u001b[38;5;28mint\u001b[39m(numbers[\u001b[32m0\u001b[39m])\n\u001b[32m----> \u001b[39m\u001b[32m4\u001b[39m y = \u001b[38;5;28mint\u001b[39m(\u001b[43mnumbers\u001b[49m\u001b[43m[\u001b[49m\u001b[32;43m1\u001b[39;49m\u001b[43m]\u001b[49m)\n\u001b[32m      5\u001b[39m last_digit_x = x % \u001b[32m10\u001b[39m\n\u001b[32m      6\u001b[39m last_digit_y = y % \u001b[32m10\u001b[39m\n",
      "\u001b[31mIndexError\u001b[39m: list index out of range"
     ]
    }
   ],
   "source": [
    "imp =input()\n",
    "numbers = imp.split()\n",
    "x = int(numbers[0])\n",
    "y = int(numbers[1])\n",
    "last_digit_x = x % 10\n",
    "last_digit_y = y % 10\n",
    "sum = last_digit_x + last_digit_y\n",
    "print(sum)"
   ]
  }
 ],
 "metadata": {
  "kernelspec": {
   "display_name": "Python 3",
   "language": "python",
   "name": "python3"
  },
  "language_info": {
   "codemirror_mode": {
    "name": "ipython",
    "version": 3
   },
   "file_extension": ".py",
   "mimetype": "text/x-python",
   "name": "python",
   "nbconvert_exporter": "python",
   "pygments_lexer": "ipython3",
   "version": "3.13.7"
  }
 },
 "nbformat": 4,
 "nbformat_minor": 5
}
