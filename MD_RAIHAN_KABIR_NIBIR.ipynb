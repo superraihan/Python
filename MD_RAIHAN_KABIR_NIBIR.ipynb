{
  "nbformat": 4,
  "nbformat_minor": 0,
  "metadata": {
    "colab": {
      "provenance": [],
      "authorship_tag": "ABX9TyNcdKDbAuGh+TlwhAY9Ej6V",
      "include_colab_link": true
    },
    "kernelspec": {
      "name": "python3",
      "display_name": "Python 3"
    },
    "language_info": {
      "name": "python"
    }
  },
  "cells": [
    {
      "cell_type": "markdown",
      "metadata": {
        "id": "view-in-github",
        "colab_type": "text"
      },
      "source": [
        "<a href=\"https://colab.research.google.com/github/superraihan/Python/blob/main/MD_RAIHAN_KABIR_NIBIR.ipynb\" target=\"_parent\"><img src=\"https://colab.research.google.com/assets/colab-badge.svg\" alt=\"Open In Colab\"/></a>"
      ]
    },
    {
      "cell_type": "markdown",
      "source": [
        "## Email Address: nibir777.bd@gmail.com"
      ],
      "metadata": {
        "id": "8FrIr6zkQDGA"
      }
    },
    {
      "cell_type": "code",
      "source": [
        "# You must run this code and use that data set for all the questions\n",
        "import numpy as np\n",
        "import pandas as pd\n",
        "\n",
        "np.random.seed(42)\n",
        "\n",
        "ids = np.arange(1, 11)\n",
        "ages = np.random.randint(18, 60, 10)\n",
        "salaries = np.random.randint(30000, 90000, 10)\n",
        "departments = np.array([\"HR\", \"IT\", \"Finance\", \"IT\", \"HR\", \"Sales\", \"Finance\", \"IT\", \"Sales\", \"HR\"])\n",
        "\n",
        "DF = pd.DataFrame({\n",
        "\"id\": ids,\n",
        "\"age\": ages,\n",
        "\"salary\": salaries,\n",
        "\"dept\": departments\n",
        "})\n",
        "\n",
        "DF.to_csv(\"employees.csv\", index=False)\n",
        "print(\"Sample Data Created and Saved as employees.csv\")\n"
      ],
      "metadata": {
        "colab": {
          "base_uri": "https://localhost:8080/"
        },
        "id": "4ZqkpNAnQdSg",
        "outputId": "4f822c85-4280-4e0c-ac53-ed7aa07a3a24"
      },
      "execution_count": 1,
      "outputs": [
        {
          "output_type": "stream",
          "name": "stdout",
          "text": [
            "Sample Data Created and Saved as employees.csv\n"
          ]
        }
      ]
    },
    {
      "cell_type": "markdown",
      "source": [
        "## Answer To The Q1"
      ],
      "metadata": {
        "id": "0TgkNdE3RHUf"
      }
    },
    {
      "cell_type": "code",
      "source": [
        "ages_array = np.array(ages)\n",
        "salaries_array = np.array(salaries)\n",
        "\n",
        "print(\"Ages Array:\")\n",
        "print(ages_array)\n",
        "\n",
        "print(\"Salaries Array:\")\n",
        "print(salaries_array)\n",
        "\n",
        "print(\"Ages Array Information:\")\n",
        "print(\"Data Type:\", ages_array.dtype)\n",
        "print(\"Number of Dimensions:\", ages_array.ndim)\n",
        "print(\"Shape:\", ages_array.shape)\n",
        "print(\"Size:\", ages_array.size)\n",
        "\n",
        "print(\"Salaries Array Information:\")\n",
        "print(\"Data Type:\", salaries_array.dtype)\n",
        "print(\"Number of Dimensions:\", salaries_array.ndim)\n",
        "print(\"Shape:\", salaries_array.shape)\n",
        "print(\"Size:\", salaries_array.size)"
      ],
      "metadata": {
        "colab": {
          "base_uri": "https://localhost:8080/"
        },
        "id": "-lp2eOUoXd6d",
        "outputId": "1fa9fc0d-6cb3-45b1-e059-8293738e161a"
      },
      "execution_count": 14,
      "outputs": [
        {
          "output_type": "stream",
          "name": "stdout",
          "text": [
            "Ages Array:\n",
            "[56 46 32 25 38 56 36 40 28 28]\n",
            "Salaries Array:\n",
            "[77191 74131 46023 71090 31685 30769 89735 86101 32433 35311]\n",
            "Ages Array Information:\n",
            "Data Type: int64\n",
            "Number of Dimensions: 1\n",
            "Shape: (10,)\n",
            "Size: 10\n",
            "Salaries Array Information:\n",
            "Data Type: int64\n",
            "Number of Dimensions: 1\n",
            "Shape: (10,)\n",
            "Size: 10\n"
          ]
        }
      ]
    },
    {
      "cell_type": "markdown",
      "source": [
        "## Answer To The Q2"
      ],
      "metadata": {
        "id": "GpYDR8WSXyZm"
      }
    },
    {
      "cell_type": "code",
      "source": [
        "ages_array = np.array(ages)\n",
        "salaries_array = np.array(salaries)\n",
        "\n",
        "highest_salary = np.max(salaries_array)\n",
        "print(\"Highest Salary:\", highest_salary)\n",
        "\n",
        "lowest_salary = np.min(salaries_array)\n",
        "print(\"Lowest Salary:\", lowest_salary)\n",
        "\n",
        "average_salary = np.mean(salaries_array)\n",
        "print(\"Average Salary:\", average_salary)\n",
        "\n",
        "average_age = np.mean(ages_array)\n",
        "print(\"Average Age:\", average_age)"
      ],
      "metadata": {
        "colab": {
          "base_uri": "https://localhost:8080/"
        },
        "id": "Vxi-iaexX4AP",
        "outputId": "57165bc6-6685-485d-f68d-a3a2aac62b85"
      },
      "execution_count": 4,
      "outputs": [
        {
          "output_type": "stream",
          "name": "stdout",
          "text": [
            "Highest Salary: 89735\n",
            "Lowest Salary: 30769\n",
            "Average Salary: 57446.9\n",
            "Average Age: 38.5\n"
          ]
        }
      ]
    },
    {
      "cell_type": "markdown",
      "source": [
        "## Answer To The Q3"
      ],
      "metadata": {
        "id": "FXFk2akBYuD-"
      }
    },
    {
      "cell_type": "code",
      "source": [
        "ages_array = np.array(ages)\n",
        "salaries_array = np.array(salaries)\n",
        "\n",
        "condition = ages_array > 30\n",
        "filtered_ages = ages_array[condition]\n",
        "\n",
        "print(\"Ages greater than 30:\")\n",
        "print(filtered_ages)\n",
        "\n",
        "count = np.sum(condition)\n",
        "print(\"Number of employees older than 30:\", count)"
      ],
      "metadata": {
        "colab": {
          "base_uri": "https://localhost:8080/"
        },
        "id": "q9N0N8THYyQ0",
        "outputId": "68b6a397-31b4-4803-f91e-d65272e6bcf0"
      },
      "execution_count": 5,
      "outputs": [
        {
          "output_type": "stream",
          "name": "stdout",
          "text": [
            "Ages greater than 30:\n",
            "[56 46 32 38 56 36 40]\n",
            "Number of employees older than 30: 7\n"
          ]
        }
      ]
    },
    {
      "cell_type": "markdown",
      "source": [
        "## Answer To The Q4"
      ],
      "metadata": {
        "id": "3uGRo_OpZLSu"
      }
    },
    {
      "cell_type": "code",
      "source": [
        "ages_array = np.array(ages)\n",
        "salaries_array = np.array(salaries)\n",
        "\n",
        "updated_ages = ages_array + 5\n",
        "\n",
        "print(\"Original Ages:\")\n",
        "print(ages_array)\n",
        "\n",
        "print(\"Updated Ages (increased by 5 years):\")\n",
        "print(updated_ages)"
      ],
      "metadata": {
        "colab": {
          "base_uri": "https://localhost:8080/"
        },
        "id": "FKEruF5NZOHL",
        "outputId": "6c35d3fb-02fe-4a56-9a17-411f838772d7"
      },
      "execution_count": 15,
      "outputs": [
        {
          "output_type": "stream",
          "name": "stdout",
          "text": [
            "Original Ages:\n",
            "[56 46 32 25 38 56 36 40 28 28]\n",
            "Updated Ages (increased by 5 years):\n",
            "[61 51 37 30 43 61 41 45 33 33]\n"
          ]
        }
      ]
    },
    {
      "cell_type": "markdown",
      "source": [
        "## Answer To The Q5"
      ],
      "metadata": {
        "id": "fXlTHvlGZfoz"
      }
    },
    {
      "cell_type": "code",
      "source": [
        "ages_array = np.array(ages)\n",
        "salaries_array = np.array(salaries)\n",
        "\n",
        "total_salary = np.sum(salaries_array)\n",
        "print(\"Total Salary Expense:\", total_salary)\n",
        "\n",
        "max_salary = np.max(salaries_array)\n",
        "min_salary = np.min(salaries_array)\n",
        "salary_difference = max_salary - min_salary\n",
        "print(\"Difference between Maximum and Minimum Salary:\", salary_difference)"
      ],
      "metadata": {
        "colab": {
          "base_uri": "https://localhost:8080/"
        },
        "id": "qkAgwr7_ZkQW",
        "outputId": "c3c036de-3e42-4fc7-94b2-f5c23b82813c"
      },
      "execution_count": 7,
      "outputs": [
        {
          "output_type": "stream",
          "name": "stdout",
          "text": [
            "Total Salary Expense: 574469\n",
            "Difference between Maximum and Minimum Salary: 58966\n"
          ]
        }
      ]
    },
    {
      "cell_type": "markdown",
      "source": [
        "## Answer To The Q6"
      ],
      "metadata": {
        "id": "A6QT3fsNZ9dP"
      }
    },
    {
      "cell_type": "code",
      "source": [
        "df = pd.read_csv(\"employees.csv\")\n",
        "\n",
        "print(\"First 5 rows:\")\n",
        "print(df.head())\n",
        "\n",
        "print(\"Basic Information:\")\n",
        "print(df.info())\n",
        "\n",
        "print(\"Summary Statistics:\")\n",
        "print(df.describe())"
      ],
      "metadata": {
        "colab": {
          "base_uri": "https://localhost:8080/"
        },
        "id": "rxxM8oQMZ_ss",
        "outputId": "2a1a35e2-49ad-41c9-ca03-1dcff1a8ee69"
      },
      "execution_count": 16,
      "outputs": [
        {
          "output_type": "stream",
          "name": "stdout",
          "text": [
            "First 5 rows:\n",
            "   id  age  salary     dept\n",
            "0   1   56   77191       HR\n",
            "1   2   46   74131       IT\n",
            "2   3   32   46023  Finance\n",
            "3   4   25   71090       IT\n",
            "4   5   38   31685       HR\n",
            "Basic Information:\n",
            "<class 'pandas.core.frame.DataFrame'>\n",
            "RangeIndex: 10 entries, 0 to 9\n",
            "Data columns (total 4 columns):\n",
            " #   Column  Non-Null Count  Dtype \n",
            "---  ------  --------------  ----- \n",
            " 0   id      10 non-null     int64 \n",
            " 1   age     10 non-null     int64 \n",
            " 2   salary  10 non-null     int64 \n",
            " 3   dept    10 non-null     object\n",
            "dtypes: int64(3), object(1)\n",
            "memory usage: 452.0+ bytes\n",
            "None\n",
            "Summary Statistics:\n",
            "             id       age        salary\n",
            "count  10.00000  10.00000     10.000000\n",
            "mean    5.50000  38.50000  57446.900000\n",
            "std     3.02765  11.16791  24357.262884\n",
            "min     1.00000  25.00000  30769.000000\n",
            "25%     3.25000  29.00000  33152.500000\n",
            "50%     5.50000  37.00000  58556.500000\n",
            "75%     7.75000  44.50000  76426.000000\n",
            "max    10.00000  56.00000  89735.000000\n"
          ]
        }
      ]
    },
    {
      "cell_type": "markdown",
      "source": [
        "## Answer To The Q7"
      ],
      "metadata": {
        "id": "ES1avn7NadC_"
      }
    },
    {
      "cell_type": "code",
      "source": [
        "df = pd.read_csv(\"employees.csv\")\n",
        "\n",
        "selected_columns = df[[\"id\", \"age\", \"salary\"]]\n",
        "print(\"ID, Age, and Salary columns:\")\n",
        "print(selected_columns)\n",
        "\n",
        "print(\"Last 3 rows:\")\n",
        "print(df.tail(3))"
      ],
      "metadata": {
        "colab": {
          "base_uri": "https://localhost:8080/"
        },
        "id": "YWdt45sFafC9",
        "outputId": "4ce0bc0c-fe51-4fbf-a4bf-f1fc3dd39b14"
      },
      "execution_count": 17,
      "outputs": [
        {
          "output_type": "stream",
          "name": "stdout",
          "text": [
            "ID, Age, and Salary columns:\n",
            "   id  age  salary\n",
            "0   1   56   77191\n",
            "1   2   46   74131\n",
            "2   3   32   46023\n",
            "3   4   25   71090\n",
            "4   5   38   31685\n",
            "5   6   56   30769\n",
            "6   7   36   89735\n",
            "7   8   40   86101\n",
            "8   9   28   32433\n",
            "9  10   28   35311\n",
            "Last 3 rows:\n",
            "   id  age  salary   dept\n",
            "7   8   40   86101     IT\n",
            "8   9   28   32433  Sales\n",
            "9  10   28   35311     HR\n"
          ]
        }
      ]
    },
    {
      "cell_type": "markdown",
      "source": [
        "## Answer To The Q8"
      ],
      "metadata": {
        "id": "qbzCpnjSa9k7"
      }
    },
    {
      "cell_type": "code",
      "source": [
        "df = pd.read_csv(\"employees.csv\")\n",
        "\n",
        "it_employees = df[df[\"dept\"] == \"IT\"]\n",
        "\n",
        "print(\"IT Department Employees:\")\n",
        "print(it_employees)\n",
        "\n",
        "total_it = len(it_employees)\n",
        "print(\"Total number of IT employees:\", total_it)"
      ],
      "metadata": {
        "colab": {
          "base_uri": "https://localhost:8080/"
        },
        "id": "YJGsVdM9a_1q",
        "outputId": "0a54e074-23fe-4d71-a467-0c909bf578c2"
      },
      "execution_count": 18,
      "outputs": [
        {
          "output_type": "stream",
          "name": "stdout",
          "text": [
            "IT Department Employees:\n",
            "   id  age  salary dept\n",
            "1   2   46   74131   IT\n",
            "3   4   25   71090   IT\n",
            "7   8   40   86101   IT\n",
            "Total number of IT employees: 3\n"
          ]
        }
      ]
    },
    {
      "cell_type": "markdown",
      "source": [
        "## Answer To The Q9"
      ],
      "metadata": {
        "id": "qTnoQt88bVY_"
      }
    },
    {
      "cell_type": "code",
      "source": [
        "df = pd.read_csv(\"employees.csv\")\n",
        "\n",
        "sorted_df = df.sort_values(by=\"salary\", ascending=False)\n",
        "\n",
        "top_3_employees = sorted_df.head(3)\n",
        "\n",
        "print(\"Top 3 Highest-Paid Employees:\")\n",
        "print(top_3_employees)"
      ],
      "metadata": {
        "colab": {
          "base_uri": "https://localhost:8080/"
        },
        "id": "OLVp0bEebYnK",
        "outputId": "20c191d7-3c6e-49b1-d30c-4fe52fffca2e"
      },
      "execution_count": 11,
      "outputs": [
        {
          "output_type": "stream",
          "name": "stdout",
          "text": [
            "Top 3 Highest-Paid Employees:\n",
            "   id  age  salary     dept\n",
            "6   7   36   89735  Finance\n",
            "7   8   40   86101       IT\n",
            "0   1   56   77191       HR\n"
          ]
        }
      ]
    },
    {
      "cell_type": "markdown",
      "source": [
        "## Answer To The Q10"
      ],
      "metadata": {
        "id": "aM_qcQDobqVc"
      }
    },
    {
      "cell_type": "code",
      "source": [
        "df = pd.read_csv(\"employees.csv\")\n",
        "\n",
        "print(\"Original Salaries:\")\n",
        "print(df[[\"id\", \"salary\"]])\n",
        "\n",
        "df.loc[df[\"salary\"] > 80000, \"salary\"] = 80000\n",
        "\n",
        "print(\"Modified Salaries:\")\n",
        "print(df[[\"id\", \"salary\"]])\n",
        "\n",
        "new_average_salary = df[\"salary\"].mean()\n",
        "print(\"New Average Salary after replacement:\", new_average_salary)"
      ],
      "metadata": {
        "colab": {
          "base_uri": "https://localhost:8080/"
        },
        "id": "VrUE4oh1bsVR",
        "outputId": "4fcc2d92-c2c2-4297-bf76-e14aba860ce0"
      },
      "execution_count": 19,
      "outputs": [
        {
          "output_type": "stream",
          "name": "stdout",
          "text": [
            "Original Salaries:\n",
            "   id  salary\n",
            "0   1   77191\n",
            "1   2   74131\n",
            "2   3   46023\n",
            "3   4   71090\n",
            "4   5   31685\n",
            "5   6   30769\n",
            "6   7   89735\n",
            "7   8   86101\n",
            "8   9   32433\n",
            "9  10   35311\n",
            "Modified Salaries:\n",
            "   id  salary\n",
            "0   1   77191\n",
            "1   2   74131\n",
            "2   3   46023\n",
            "3   4   71090\n",
            "4   5   31685\n",
            "5   6   30769\n",
            "6   7   80000\n",
            "7   8   80000\n",
            "8   9   32433\n",
            "9  10   35311\n",
            "New Average Salary after replacement: 55863.3\n"
          ]
        }
      ]
    }
  ]
}