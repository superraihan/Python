{
 "cells": [
  {
   "cell_type": "code",
   "execution_count": null,
   "id": "b24b36c2",
   "metadata": {},
   "outputs": [],
   "source": [
    "# number of test cases\n",
    "t = int(input())\n",
    "\n",
    "for _ in range(t):\n",
    "    n = int(input())\n",
    "    # number of valid (a, b) pairs\n",
    "    print(n - 1)\n"
   ]
  }
 ],
 "metadata": {
  "language_info": {
   "name": "python"
  }
 },
 "nbformat": 4,
 "nbformat_minor": 5
}
