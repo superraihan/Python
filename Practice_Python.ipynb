{
  "nbformat": 4,
  "nbformat_minor": 0,
  "metadata": {
    "colab": {
      "provenance": [],
      "authorship_tag": "ABX9TyMO0ut15qU4x6PBX9JHV/Cv",
      "include_colab_link": true
    },
    "kernelspec": {
      "name": "python3",
      "display_name": "Python 3"
    },
    "language_info": {
      "name": "python"
    }
  },
  "cells": [
    {
      "cell_type": "markdown",
      "metadata": {
        "id": "view-in-github",
        "colab_type": "text"
      },
      "source": [
        "<a href=\"https://colab.research.google.com/github/superraihan/Python/blob/main/Practice_Python.ipynb\" target=\"_parent\"><img src=\"https://colab.research.google.com/assets/colab-badge.svg\" alt=\"Open In Colab\"/></a>"
      ]
    },
    {
      "cell_type": "markdown",
      "source": [
        "## Multipal String"
      ],
      "metadata": {
        "id": "ueHyR_dBVewc"
      }
    },
    {
      "cell_type": "code",
      "source": [
        "massage =\"\"\"hey its me raihan nibir what's about you?\n",
        "im a cse student \"\"\"\n",
        "print(massage)"
      ],
      "metadata": {
        "colab": {
          "base_uri": "https://localhost:8080/"
        },
        "id": "QQer6uAtVodB",
        "outputId": "3eb85f82-54ae-4bee-f787-f5b846cf4d17"
      },
      "execution_count": null,
      "outputs": [
        {
          "output_type": "stream",
          "name": "stdout",
          "text": [
            "hey its me raihan nibir what's about you?\n",
            "im a cse student \n"
          ]
        }
      ]
    },
    {
      "cell_type": "markdown",
      "source": [
        "### ND Array Creation From Existing Data"
      ],
      "metadata": {
        "id": "f1FyiwOQV0AE"
      }
    },
    {
      "cell_type": "code",
      "source": [
        "import numpy as np\n",
        "\n",
        "matrix = [\n",
        "    [1, 2, 3],\n",
        "    [4, 5, 6]\n",
        "]\n",
        "\n",
        "arr = np.array(matrix)\n",
        "\n",
        "print(arr)\n",
        "print(type(arr))\n",
        "print(arr.dtype)\n",
        "print(arr.shape)\n",
        "print(arr.ndim)\n"
      ],
      "metadata": {
        "colab": {
          "base_uri": "https://localhost:8080/"
        },
        "id": "6uJ5AVP6V3f6",
        "outputId": "0c783fed-6639-4fd1-baf4-a2b7e00042d5"
      },
      "execution_count": null,
      "outputs": [
        {
          "output_type": "stream",
          "name": "stdout",
          "text": [
            "[[1 2 3]\n",
            " [4 5 6]]\n",
            "<class 'numpy.ndarray'>\n",
            "int64\n",
            "(2, 3)\n",
            "2\n"
          ]
        }
      ]
    },
    {
      "cell_type": "code",
      "source": [
        "import numpy as np\n",
        "lst = [ 10,20,30,40,40.5]\n",
        "arr =np.array(lst, dtype=np.int32)\n",
        "\n",
        "print(arr)\n",
        "print(type(arr))\n",
        "print(arr.dtype)"
      ],
      "metadata": {
        "colab": {
          "base_uri": "https://localhost:8080/"
        },
        "id": "C4UaPG4CV-2k",
        "outputId": "b5dc772c-a47a-43a1-8cc8-4e4799696738"
      },
      "execution_count": null,
      "outputs": [
        {
          "output_type": "stream",
          "name": "stdout",
          "text": [
            "[10 20 30 40 40]\n",
            "<class 'numpy.ndarray'>\n",
            "int32\n"
          ]
        }
      ]
    },
    {
      "cell_type": "markdown",
      "source": [
        "### Creating NDarray From Scratch"
      ],
      "metadata": {
        "id": "pQ0BDNojWCyJ"
      }
    },
    {
      "cell_type": "code",
      "source": [
        "#For zeros\n",
        "import numpy as np\n",
        "arr = np.zeros((2,3),dtype=np.int8)\n",
        "\n",
        "print(arr)\n",
        "print(arr.shape)\n",
        "\n",
        "# For One\n",
        "\n",
        "arr = np.ones_like((2,3),dtype=np.int8)\n",
        "\n",
        "print(arr)\n",
        "print(arr.shape)\n",
        "\n",
        "# Empty\n",
        "\n",
        "arr = np.empty((4,3),dtype=np.int8)\n",
        "print(arr)\n",
        "print(type(arr))\n",
        "print(arr.shape)\n",
        "print(arr.dtype)\n",
        "print(arr.ndim)\n",
        "print(arr.size)\n"
      ],
      "metadata": {
        "colab": {
          "base_uri": "https://localhost:8080/"
        },
        "id": "YTL0mklcWFrS",
        "outputId": "fe7c9dc4-bb99-4f6e-9f3c-0833fc0c5d79"
      },
      "execution_count": null,
      "outputs": [
        {
          "output_type": "stream",
          "name": "stdout",
          "text": [
            "[[0 0 0]\n",
            " [0 0 0]]\n",
            "(2, 3)\n",
            "[1 1]\n",
            "(2,)\n",
            "[[-13 -83 -66]\n",
            " [ 10   0   0]\n",
            " [  0   0   0]\n",
            " [  0   0   0]]\n",
            "<class 'numpy.ndarray'>\n",
            "(4, 3)\n",
            "int8\n",
            "2\n",
            "12\n"
          ]
        }
      ]
    },
    {
      "cell_type": "markdown",
      "source": [
        "### Array Creation With Random Values"
      ],
      "metadata": {
        "id": "XK0QzwxPWMPG"
      }
    },
    {
      "cell_type": "code",
      "source": [
        "arr = np.random.rand(2,3)\n",
        "print(arr)\n",
        "print(type(arr))\n",
        "print(arr.shape)\n",
        "print(arr.dtype)\n",
        "print(arr.ndim)\n",
        "print(arr.size)"
      ],
      "metadata": {
        "colab": {
          "base_uri": "https://localhost:8080/"
        },
        "id": "p-Twf_TKWRwD",
        "outputId": "195e04e2-fe10-41b6-dbc8-e0d17d165fcc"
      },
      "execution_count": null,
      "outputs": [
        {
          "output_type": "stream",
          "name": "stdout",
          "text": [
            "[[0.46395284 0.23488275 0.82016506]\n",
            " [0.12989445 0.04405565 0.84809692]]\n",
            "<class 'numpy.ndarray'>\n",
            "(2, 3)\n",
            "float64\n",
            "2\n",
            "6\n"
          ]
        }
      ]
    },
    {
      "cell_type": "markdown",
      "source": [
        "## Array Creation With Range Functions\n",
        "\n",
        "\n",
        "\n"
      ],
      "metadata": {
        "id": "k95JqNSBWVLe"
      }
    },
    {
      "cell_type": "code",
      "source": [
        "# Scrial Number\n",
        "arr = np.arange(1 , 10 , 1)\n",
        "print(arr)\n",
        "print(type(arr))\n",
        "print(arr.shape)\n",
        "print(arr.dtype)\n",
        "print(arr.ndim)\n",
        "print(arr.size)"
      ],
      "metadata": {
        "colab": {
          "base_uri": "https://localhost:8080/"
        },
        "id": "7v_YgMmAWbLa",
        "outputId": "ee2bdc7d-72a9-4779-8a2f-17a5fee6899d"
      },
      "execution_count": null,
      "outputs": [
        {
          "output_type": "stream",
          "name": "stdout",
          "text": [
            "[1 2 3 4 5 6 7 8 9]\n",
            "<class 'numpy.ndarray'>\n",
            "(9,)\n",
            "int64\n",
            "1\n",
            "9\n"
          ]
        }
      ]
    },
    {
      "cell_type": "code",
      "source": [
        "# For Matrix\n",
        "arr = np.arange(1 , 10 , 1)\n",
        "mat = arr.reshape(3,3)\n",
        "print(arr)\n",
        "print(mat)\n",
        "print(type(arr))\n",
        "print(arr.shape)\n",
        "print(arr.dtype)\n",
        "print(arr.ndim)\n",
        "print(arr.size)\n"
      ],
      "metadata": {
        "colab": {
          "base_uri": "https://localhost:8080/"
        },
        "id": "IXlt4CsVWeUa",
        "outputId": "21ab6238-e7a7-4287-e5f6-e33ce43f2b98"
      },
      "execution_count": null,
      "outputs": [
        {
          "output_type": "stream",
          "name": "stdout",
          "text": [
            "[1 2 3 4 5 6 7 8 9]\n",
            "[[1 2 3]\n",
            " [4 5 6]\n",
            " [7 8 9]]\n",
            "<class 'numpy.ndarray'>\n",
            "(9,)\n",
            "int64\n",
            "1\n",
            "9\n"
          ]
        }
      ]
    },
    {
      "cell_type": "code",
      "source": [
        "# Lin Space\n",
        "arr = np.linspace(0 , 10 , 5)\n",
        "print(arr)\n",
        "print(type(arr))\n",
        "print(arr.shape)\n",
        "print(arr.dtype)\n",
        "print(arr.ndim)\n",
        "print(arr.size)"
      ],
      "metadata": {
        "colab": {
          "base_uri": "https://localhost:8080/"
        },
        "id": "diEMw5L4Wg1p",
        "outputId": "1af8521e-d537-452d-d4d6-43d433b90ee7"
      },
      "execution_count": null,
      "outputs": [
        {
          "output_type": "stream",
          "name": "stdout",
          "text": [
            "[ 0.   2.5  5.   7.5 10. ]\n",
            "<class 'numpy.ndarray'>\n",
            "(5,)\n",
            "float64\n",
            "1\n",
            "5\n"
          ]
        }
      ]
    },
    {
      "cell_type": "code",
      "source": [
        "# Log Space\n",
        "arr = np.logspace(0, 4 , 6)\n",
        "print(arr)\n"
      ],
      "metadata": {
        "colab": {
          "base_uri": "https://localhost:8080/"
        },
        "id": "IVX4gFRNWjqy",
        "outputId": "f51d3e06-1938-4f2f-c8f8-64959b828a09"
      },
      "execution_count": null,
      "outputs": [
        {
          "output_type": "stream",
          "name": "stdout",
          "text": [
            "[1.00000000e+00 6.30957344e+00 3.98107171e+01 2.51188643e+02\n",
            " 1.58489319e+03 1.00000000e+04]\n"
          ]
        }
      ]
    },
    {
      "cell_type": "markdown",
      "source": [
        "## Matrix For Linear Algebra"
      ],
      "metadata": {
        "id": "1BavBMW_Womd"
      }
    },
    {
      "cell_type": "code",
      "source": [
        "import numpy as np\n",
        "diagonal_matrix = np.diag([1,2,3,4])\n",
        "print(diagonal_matrix)\n",
        "print(diagonal_matrix.shape)\n"
      ],
      "metadata": {
        "colab": {
          "base_uri": "https://localhost:8080/"
        },
        "id": "JuvU89RlW7IQ",
        "outputId": "37016b2f-6ab5-46b6-df84-54aa9d10a630"
      },
      "execution_count": null,
      "outputs": [
        {
          "output_type": "stream",
          "name": "stdout",
          "text": [
            "[[1 0 0 0]\n",
            " [0 2 0 0]\n",
            " [0 0 3 0]\n",
            " [0 0 0 4]]\n",
            "(4, 4)\n"
          ]
        }
      ]
    },
    {
      "cell_type": "code",
      "source": [
        "# identy matrix\n",
        "import numpy as np\n",
        "identity_mat = np.eye(4)\n",
        "print(identity_mat)\n",
        "print(identity_mat.shape)"
      ],
      "metadata": {
        "id": "I2RRq3DmW-SM",
        "outputId": "57a88095-9ce5-442a-a722-428dc6eb5b2a",
        "colab": {
          "base_uri": "https://localhost:8080/"
        }
      },
      "execution_count": null,
      "outputs": [
        {
          "output_type": "stream",
          "name": "stdout",
          "text": [
            "[[1. 0. 0. 0.]\n",
            " [0. 1. 0. 0.]\n",
            " [0. 0. 1. 0.]\n",
            " [0. 0. 0. 1.]]\n",
            "(4, 4)\n"
          ]
        }
      ]
    },
    {
      "cell_type": "code",
      "source": [
        "arr = np.array([1,2,3,4,5])\n",
        "arr[1:4]=0\n",
        "print(arr)\n"
      ],
      "metadata": {
        "colab": {
          "base_uri": "https://localhost:8080/"
        },
        "id": "OZ4WJoAWnFdy",
        "outputId": "9ac2c2cb-efab-489b-9edd-1210e79985d5"
      },
      "execution_count": null,
      "outputs": [
        {
          "output_type": "stream",
          "name": "stdout",
          "text": [
            "[1 0 0 0 5]\n"
          ]
        }
      ]
    },
    {
      "cell_type": "markdown",
      "source": [
        "## Problem Solving\n",
        "\n",
        "1. You have a list of temperatures recorded in Celsius. Your task is to:\n",
        "Create a NumPy array from the given list.\n",
        "Convert all temperatures from Celsius to Fahrenheit.The formula is F = C* 1.8 + 32.\n",
        "Print the new Fahrenheit array.\n"
      ],
      "metadata": {
        "id": "8HlPGnw2qdJb"
      }
    },
    {
      "cell_type": "code",
      "source": [
        "import numpy as np\n",
        "\n",
        "celsius_list = [0, 10, 20, 30, 35.5, 100]\n",
        "\n",
        "celsius_array = np.array(celsius_list)\n",
        "print(f\"Celsius Array: {celsius_array}\")\n",
        "\n",
        "fahrenheit_array = (celsius_array * 1.8) + 32\n",
        "\n",
        "print(f\"Fahrenheit Array: {fahrenheit_array}\")"
      ],
      "metadata": {
        "colab": {
          "base_uri": "https://localhost:8080/"
        },
        "id": "w5ZRa4JiqxN_",
        "outputId": "d226550a-43ce-4165-c516-4d5b27d8c4c6"
      },
      "execution_count": null,
      "outputs": [
        {
          "output_type": "stream",
          "name": "stdout",
          "text": [
            "Celsius Array: [  0.   10.   20.   30.   35.5 100. ]\n",
            "Fahrenheit Array: [ 32.   50.   68.   86.   95.9 212. ]\n"
          ]
        }
      ]
    },
    {
      "cell_type": "markdown",
      "source": [
        "  You have a Python list containing the lap times (in seconds) for an athlete.\n",
        "\n",
        "Task:\n",
        "\n",
        "Convert the list into a NumPy array.\n",
        "Print the array's shape, size, and data type.\n",
        "The athlete wants to see their times in minutes. Create a new array by dividing all the lap times by 60.\n",
        "Print the new array of lap times in minutes.\n"
      ],
      "metadata": {
        "id": "69q3nMMpsv4r"
      }
    },
    {
      "cell_type": "code",
      "source": [
        "import numpy as np\n",
        "\n",
        "lap_times_seconds_list = [120, 115.5, 118, 121.2, 114]\n",
        "\n",
        "lap_times_sec_arr = np.array(lap_times_seconds_list)\n",
        "\n",
        "print(f\"Original array: {lap_times_sec_arr}\")\n",
        "print(f\"Shape: {lap_times_sec_arr.shape}\")\n",
        "print(f\"Size: {lap_times_sec_arr.size}\")\n",
        "print(f\"Data Type: {lap_times_sec_arr.dtype}\")\n",
        "\n",
        "print(\"-\" * 30)\n",
        "\n",
        "lap_times_min_arr = lap_times_sec_arr / 60\n",
        "\n",
        "print(f\"Lap times in minutes: {lap_times_min_arr}\")"
      ],
      "metadata": {
        "colab": {
          "base_uri": "https://localhost:8080/"
        },
        "id": "PpeoTQJus1Xl",
        "outputId": "18be6cb7-9486-4032-bed2-d386437a2d21"
      },
      "execution_count": null,
      "outputs": [
        {
          "output_type": "stream",
          "name": "stdout",
          "text": [
            "Original array: [120.  115.5 118.  121.2 114. ]\n",
            "Shape: (5,)\n",
            "Size: 5\n",
            "Data Type: float64\n",
            "------------------------------\n",
            "Lap times in minutes: [2.         1.925      1.96666667 2.02       1.9       ]\n"
          ]
        }
      ]
    },
    {
      "cell_type": "markdown",
      "source": [
        "## Numpy Array"
      ],
      "metadata": {
        "id": "5N5RwhReoz9k"
      }
    },
    {
      "cell_type": "code",
      "source": [
        "import numpy as np\n",
        "x =np.random.randint(1,10,size=(2,3))\n",
        "y =np.random.randint(1,10,size=(1,3))\n",
        "r = np.concatenate((x,y),axis=0)\n",
        "print(r)\n"
      ],
      "metadata": {
        "colab": {
          "base_uri": "https://localhost:8080/"
        },
        "id": "sXPLzoUgo-0z",
        "outputId": "ea38f6a6-c5f7-4103-819a-7cfce23de87e"
      },
      "execution_count": 3,
      "outputs": [
        {
          "output_type": "stream",
          "name": "stdout",
          "text": [
            "[[7 8 2]\n",
            " [3 7 7]\n",
            " [7 9 1]]\n"
          ]
        }
      ]
    },
    {
      "cell_type": "markdown",
      "source": [
        "## Array Splitted"
      ],
      "metadata": {
        "id": "FG2YqZ8stV0f"
      }
    },
    {
      "cell_type": "code",
      "source": [
        "a = np.random.randint(1,10,size=(10,))\n",
        "print(a)\n",
        "splitted_array = np.array_split(a,3)\n",
        "print(splitted_array)"
      ],
      "metadata": {
        "colab": {
          "base_uri": "https://localhost:8080/"
        },
        "id": "vd4i4SJatbhN",
        "outputId": "6460267a-51e4-4842-873d-2051b6b40f8e"
      },
      "execution_count": 4,
      "outputs": [
        {
          "output_type": "stream",
          "name": "stdout",
          "text": [
            "[9 7 5 5 1 9 1 8 2 2]\n",
            "[array([9, 7, 5, 5]), array([1, 9, 1]), array([8, 2, 2])]\n"
          ]
        }
      ]
    },
    {
      "cell_type": "markdown",
      "source": [
        "## Mathmatical Function"
      ],
      "metadata": {
        "id": "LWS_XUA531LP"
      }
    },
    {
      "cell_type": "code",
      "source": [
        "import numpy as np\n",
        "\n",
        "x = np.array([10, 20, 30, 40, 50])\n",
        "y = np.array([1, 2, 3, 4, 5])\n",
        "\n",
        "sin_val = np.sin(x)\n",
        "print(\"Value Of Sin:\", sin_val)\n",
        "\n",
        "# radian to degree conversion\n",
        "deg_con =np.rad2deg(x)\n",
        "print(\"Radian To Degree Conversion:\", deg_con)\n",
        "\n",
        "#Log\n",
        "base_10_log_val=np.log10(x)\n",
        "print(\"Log Value:\", base_10_log_val)"
      ],
      "metadata": {
        "colab": {
          "base_uri": "https://localhost:8080/"
        },
        "id": "Oax74p543_yX",
        "outputId": "0f1673bc-ea42-4608-c911-8ab66ba41e7d"
      },
      "execution_count": 13,
      "outputs": [
        {
          "output_type": "stream",
          "name": "stdout",
          "text": [
            "Value Of Sin: [-0.54402111  0.91294525 -0.98803162  0.74511316 -0.26237485]\n",
            "Radian To Degree Conversion: [ 572.95779513 1145.91559026 1718.87338539 2291.83118052 2864.78897565]\n",
            "Log Value: [1.         1.30103    1.47712125 1.60205999 1.69897   ]\n"
          ]
        }
      ]
    },
    {
      "cell_type": "markdown",
      "source": [
        "## Broadcasting"
      ],
      "metadata": {
        "id": "1pWcfQCW9JuN"
      }
    },
    {
      "cell_type": "code",
      "source": [
        "x = np.array([10, 20, 30, 40, 50])\n",
        "result= x**2\n",
        "print(result)\n"
      ],
      "metadata": {
        "colab": {
          "base_uri": "https://localhost:8080/"
        },
        "id": "7KcTYIFY9LxU",
        "outputId": "e4726238-0562-4a2d-8288-9d234705d5cc"
      },
      "execution_count": 15,
      "outputs": [
        {
          "output_type": "stream",
          "name": "stdout",
          "text": [
            "[ 100  400  900 1600 2500]\n"
          ]
        }
      ]
    }
  ]
}